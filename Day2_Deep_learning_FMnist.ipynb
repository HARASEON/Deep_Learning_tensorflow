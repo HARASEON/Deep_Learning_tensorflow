{
  "nbformat": 4,
  "nbformat_minor": 0,
  "metadata": {
    "colab": {
      "provenance": [],
      "authorship_tag": "ABX9TyMsxRRMUpWNUD1lcdL8rwIV",
      "include_colab_link": true
    },
    "kernelspec": {
      "name": "python3",
      "display_name": "Python 3"
    },
    "language_info": {
      "name": "python"
    }
  },
  "cells": [
    {
      "cell_type": "markdown",
      "metadata": {
        "id": "view-in-github",
        "colab_type": "text"
      },
      "source": [
        "<a href=\"https://colab.research.google.com/github/HARASEON/Deep_Learning_tensorflow/blob/main/Day2_Deep_learning_FMnist.ipynb\" target=\"_parent\"><img src=\"https://colab.research.google.com/assets/colab-badge.svg\" alt=\"Open In Colab\"/></a>"
      ]
    },
    {
      "cell_type": "markdown",
      "source": [
        "# 파이썬 csv 파일읽기\n",
        "\n",
        "\n"
      ],
      "metadata": {
        "id": "eJMDTC6JLl5x"
      }
    },
    {
      "cell_type": "code",
      "execution_count": null,
      "metadata": {
        "id": "Qh6itBL2Iznj"
      },
      "outputs": [],
      "source": [
        "import csv\n",
        "file_name = '경로' with open(file_name) as csvfile:\n",
        "line = csv.reader(csvfile)\n",
        "i = 0\n",
        "for ln in line:\n",
        "  print(ln)\n",
        "  i = i+1\n",
        "  if i == 11:\n",
        "    break\n",
        "\n"
      ]
    },
    {
      "cell_type": "markdown",
      "source": [
        "데이터10개 프린트하기\n",
        "한글데이터 encoding\n",
        "line = pd.read_csv(file_name, encoding = 'euc-kr')\n",
        "혹은\n",
        "line = pd.read_csv(file_name, encoding = \"utf-8\")"
      ],
      "metadata": {
        "id": "Rm2uddkoM4kN"
      }
    },
    {
      "cell_type": "code",
      "source": [
        "import csv\n",
        "file_name = '경로' with open(file_name) as csvfile:\n",
        "line = csv.reader(csvfile)\n",
        "i= 0\n",
        "for ln in line:\n",
        "  print(ln)\n",
        "  i = i+1\n",
        "  if i == 10:\n",
        "    break"
      ],
      "metadata": {
        "id": "plTzKRWZM9SW"
      },
      "execution_count": null,
      "outputs": []
    },
    {
      "cell_type": "code",
      "source": [
        "import pandas as pd\n",
        "file_name = '경로'\n",
        "line = pd.read_csv(file_name, encoding=\"euc-kr\")\n",
        "line.head(10)"
      ],
      "metadata": {
        "id": "b36lNO27NbtZ"
      },
      "execution_count": null,
      "outputs": []
    },
    {
      "cell_type": "markdown",
      "source": [
        "Matplotlib"
      ],
      "metadata": {
        "id": "mCH2TOx9OyXx"
      }
    },
    {
      "cell_type": "code",
      "source": [
        "import matplotlib.pyplot as plt\n",
        "\n",
        "# 그래프사이즈\n",
        "plt.figure(figsize = (12, 9))\n",
        "# x축과 y축의 값(list)\n",
        "plt.plot(np.arange(1,21), history.history['loss'])\n",
        "# 그래프제목\n",
        "plt.title('Loss')\n",
        "plt.xlabel('Epochs')\n",
        "plt.ylabel('Loss')\n",
        "plt.show()"
      ],
      "metadata": {
        "id": "5Me83voCO1_B"
      },
      "execution_count": null,
      "outputs": []
    },
    {
      "cell_type": "markdown",
      "source": [
        "# Overfitting 방지\n",
        "* Dropout: training을 할 때 각 batch마다 layer단위로 일정 비율 neuron을 끄는 방식\n",
        "  * 효과: 동일한 데이터에 대해서 모델의 학습이 training data에 편중되는 것을 막기 때문에 여러개의 서로 다른 모델을 합한 ensemble 효과를 얻을 수 있다.\n",
        "  * 주의점!: test/ inference 단계에서는 dropout을 빼고, 전제 neuron이 살아 있는 채로 진행해야함\n",
        "    * Alexnet에 처음 적용\n",
        "\n",
        "* Dense: 뉴런의 입출력을 연결해주는 layer\n",
        "* Sequential : 각 레이어의 하나의 입력텐서와 출력 텐서가 있는 일반레이어에 사용\n",
        "* Sequential 모델은 다음의 경우에 적합하지 않습니다.\n",
        "\n",
        "  * 모델에 다중 입력 또는 다중 출력\n",
        "  * 레이어에 다중 입력 또는 다중 출력\n",
        "  * 레이어 공유\n",
        "  * 비선형 토폴로지(예: 잔류 연결, 다중 분기 모델)\n"
      ],
      "metadata": {
        "id": "tZs4X64ZRpMD"
      }
    },
    {
      "cell_type": "code",
      "source": [
        "import tensorflow as tf\n",
        "from tensorflow import keras\n",
        "\n",
        "from tensorflow.keras.models import Sequential\n",
        "from tensorflow.keras.layers import Flatten, Dense, BatchNormalization\n",
        "print(tf.__version__)\n",
        "import matplotlib.pyplot as plt\n",
        "%matplotlib inline\n",
        "import numpy as np\n",
        "\n",
        "# numpy float 출력옵션 변경\n",
        "np.set_printoptions(formatter = {'float_kind': lambda x: \"{0:0.3f}\".format(x)})"
      ],
      "metadata": {
        "colab": {
          "base_uri": "https://localhost:8080/"
        },
        "id": "F_OD7PBxS0Fo",
        "outputId": "213facac-e7a1-4408-8169-e63edf602272"
      },
      "execution_count": null,
      "outputs": [
        {
          "output_type": "stream",
          "name": "stdout",
          "text": [
            "2.12.0\n"
          ]
        }
      ]
    },
    {
      "cell_type": "markdown",
      "source": [
        "1. 데이터셋준비하기\n",
        "2. 데이터프리프로세싱\n",
        "3. 모델 설계\n",
        "4. 모델 학습\n",
        "5. 모델 검증\n",
        "6. 모델 사용\n"
      ],
      "metadata": {
        "id": "vsZ193aZWD0U"
      }
    },
    {
      "cell_type": "code",
      "source": [
        "# Fashion Mnist file\n",
        "\n",
        "import tensorflow as tf\n",
        "from tensorflow import keras\n",
        "from tensorflow.keras.models import Sequential\n",
        "from tensorflow.keras.layers import Flatten, Dense, Dropout, BatchNormalization\n",
        "import matplotlib.pyplot as plot\n",
        "%matplotlib inline\n",
        "import numpy as np\n",
        "\n",
        "\n",
        "np.set_printoptions(formatter = {'float_kind': lambda x: \"{0:0.3f}\".format(x)})\n",
        "\n",
        "## Data load\n",
        "#fmnist data : 6000:1000 = # of train data: # of test data \n",
        "fmnist = tf.keras.datasets.fashion_mnist\n",
        "(x_train, y_train), (x_test, y_test) = fmnist.load_data()\n",
        "print(x_train.shape, y_train.shape, x_test.shape, y_test.shape)\n",
        "print('length:', len(x_train))\n",
        "print('ndim', x_train.ndim)\n",
        "print('size:', x_train.size, 60000*28*28)\n",
        "print('dtype:', x_train.dtype)\n",
        "print('dtype.name:', x_train.dtype.name)"
      ],
      "metadata": {
        "colab": {
          "base_uri": "https://localhost:8080/"
        },
        "id": "zoIJjZGdWCkR",
        "outputId": "18d15b8f-45c6-4627-cd74-b9e59b88d8b6"
      },
      "execution_count": null,
      "outputs": [
        {
          "output_type": "stream",
          "name": "stdout",
          "text": [
            "(60000, 28, 28) (60000,) (10000, 28, 28) (10000,)\n",
            "length: 60000\n",
            "ndim 3\n",
            "size: 47040000 47040000\n",
            "dtype: uint8\n",
            "dtype.name: uint8\n"
          ]
        }
      ]
    },
    {
      "cell_type": "code",
      "source": [
        "## Data preprocessing\n",
        "class_name = ['T-shirts/top', 'Trouser', 'Pullover', 'Dress', 'Coat', 'Sandal', 'Shirt', 'Sneaker', 'Bag', 'Ankle boot' ]\n",
        "print(y_train[2])\n",
        "print(class_name[y_train[2]])\n",
        "plt.imshow(x_train[2])"
      ],
      "metadata": {
        "colab": {
          "base_uri": "https://localhost:8080/",
          "height": 485
        },
        "id": "agQ1uTyDZj0r",
        "outputId": "a274a10c-cef7-4f97-b168-47d5704562f7"
      },
      "execution_count": null,
      "outputs": [
        {
          "output_type": "stream",
          "name": "stdout",
          "text": [
            "0\n",
            "T-shirts/top\n"
          ]
        },
        {
          "output_type": "execute_result",
          "data": {
            "text/plain": [
              "<matplotlib.image.AxesImage at 0x7f821f724160>"
            ]
          },
          "metadata": {},
          "execution_count": 8
        },
        {
          "output_type": "display_data",
          "data": {
            "text/plain": [
              "<Figure size 640x480 with 1 Axes>"
            ],
            "image/png": "[encoded data removed]"
          },
          "metadata": {}
        }
      ]
    },
    {
      "cell_type": "code",
      "source": [
        "print(x_train[2])"
      ],
      "metadata": {
        "colab": {
          "base_uri": "https://localhost:8080/"
        },
        "id": "HhH86ZnmbWLT",
        "outputId": "541df796-6738-4852-f01a-4addbee4d943"
      },
      "execution_count": null,
      "outputs": [
        {
          "output_type": "stream",
          "name": "stdout",
          "text": [
            "[[  0   0   0   0   0   0   0   0   0  22 118  24   0   0   0   0   0  48\n",
            "   88   5   0   0   0   0   0   0   0   0]\n",
            " [  0   0   0   0   0   0   0   0  12 100 212 205 185 179 173 186 193 221\n",
            "  142  85   0   0   0   0   0   0   0   0]\n",
            " [  0   0   0   0   0   0   0   0   0  85  76 199 225 248 255 238 226 157\n",
            "   68  80   0   0   0   0   0   0   0   0]\n",
            " [  0   0   0   0   0   0   0   0   0  91  69  91 201 218 225 209 158  61\n",
            "   93  72   0   0   0   0   0   0   0   0]\n",
            " [  0   0   0   0   0   0   0   0   0  79  89  61  59  87 108  75  56  76\n",
            "   97  73   0   0   0   0   0   0   0   0]\n",
            " [  0   0   0   0   0   0   0   0   0  75  89  80  80  67  63  73  83  80\n",
            "   96  72   0   0   0   0   0   0   0   0]\n",
            " [  0   0   0   0   0   0   0   0   0  77  88  77  80  83  83  83  83  81\n",
            "   95  76   0   0   0   0   0   0   0   0]\n",
            " [  0   0   0   0   0   0   0   0   0  89  96  80  83  81  84  85  85  85\n",
            "   97  84   0   0   0   0   0   0   0   0]\n",
            " [  0   0   0   0   0   0   0   0   0  93  97  81  85  84  85  87  88  84\n",
            "   99  87   0   0   0   0   0   0   0   0]\n",
            " [  0   0   0   0   0   0   0   0   0  95  87  84  87  88  85  87  87  84\n",
            "   92  87   0   0   0   0   0   0   0   0]\n",
            " [  0   0   0   0   0   0   0   0   0  97  87  87  85  88  87  87  87  88\n",
            "   85 107   0   0   0   0   0   0   0   0]\n",
            " [  0   0   0   0   0   0   0   0  17 100  88  87  87  88  87  87  85  89\n",
            "   77 118   8   0   0   0   0   0   0   0]\n",
            " [  0   0   0   0   0   0   0   0  10  93  87  87  87  87  87  88  87  89\n",
            "   80 103   0   0   0   0   0   0   0   0]\n",
            " [  0   0   0   0   0   0   0   0   9  96  87  87  87  87  87  88  87  88\n",
            "   87 103   0   0   0   0   0   0   0   0]\n",
            " [  0   0   0   0   0   0   0   0  12  96  85  87  87  87  85  87  87  88\n",
            "   89 100   2   0   0   0   0   0   0   0]\n",
            " [  0   0   0   0   0   0   0   0  20  95  84  88  85  87  88  88  88  89\n",
            "   88  99   8   0   0   0   0   0   0   0]\n",
            " [  0   0   0   0   0   0   0   0  21  96  85  87  85  88  88  88  88  89\n",
            "   89  99  10   0   0   0   0   0   0   0]\n",
            " [  0   0   0   0   0   0   0   0  24  96  85  87  85  87  88  88  89  88\n",
            "   91 102  14   0   0   0   0   0   0   0]\n",
            " [  0   0   0   0   0   0   0   0  25  93  84  88  87  87  87  87  87  89\n",
            "   91 103  29   0   0   0   0   0   0   0]\n",
            " [  0   0   0   0   0   0   0   0  30  95  85  88  88  87  87  87  87  89\n",
            "   88 102  37   0   0   0   0   0   0   0]\n",
            " [  0   0   0   0   0   0   0   0  34  96  88  87  87  87  87  87  87  85\n",
            "   85  97  38   0   0   0   0   0   0   0]\n",
            " [  0   0   0   0   0   0   0   0  40  96  87  85  87  87  87  87  87  85\n",
            "   84  92  49   0   0   0   0   0   0   0]\n",
            " [  0   0   0   0   0   0   0   0  46  95  83  84  87  87  87  87  87  87\n",
            "   84  87  84   0   0   0   0   0   0   0]\n",
            " [  0   0   0   0   0   0   0   0  72  95  85  84  85  88  87  87  89  87\n",
            "   85  83  63   0   0   0   0   0   0   0]\n",
            " [  0   0   0   0   0   0   0   0  64 100  84  87  88  85  88  88  84  87\n",
            "   83  95  53   0   0   0   0   0   0   0]\n",
            " [  0   0   0   0   0   0   0   0  10 102 100  91  91  89  85  84  84  87\n",
            "  108 106  14   0   0   0   0   0   0   0]\n",
            " [  0   0   0   0   0   0   0   0   0   8  73  93 104 107 103 103 106 102\n",
            "   75  10   0   0   0   0   0   0   0   0]\n",
            " [  0   0   0   0   0   0   0   0   1   0   0   0  18  42  57  56  32   8\n",
            "    0   0   1   0   0   0   0   0   0   0]]\n"
          ]
        }
      ]
    },
    {
      "cell_type": "code",
      "source": [
        "## In RGB colour, 255 is the last one which means white.\n",
        "# describe probability of fashion type \n",
        "x_train = x_train/255.0\n",
        "x_test= x_test/255.0\n",
        "\n",
        "print(x_train[2])"
      ],
      "metadata": {
        "colab": {
          "base_uri": "https://localhost:8080/"
        },
        "id": "MyAFqDn9bePz",
        "outputId": "c40427e8-fc5d-435e-ea46-4f7058dc124a"
      },
      "execution_count": null,
      "outputs": [
        {
          "output_type": "stream",
          "name": "stdout",
          "text": [
            "[[0.000 0.000 0.000 0.000 0.000 0.000 0.000 0.000 0.000 0.086 0.463 0.094\n",
            "  0.000 0.000 0.000 0.000 0.000 0.188 0.345 0.020 0.000 0.000 0.000 0.000\n",
            "  0.000 0.000 0.000 0.000]\n",
            " [0.000 0.000 0.000 0.000 0.000 0.000 0.000 0.000 0.047 0.392 0.831 0.804\n",
            "  0.725 0.702 0.678 0.729 0.757 0.867 0.557 0.333 0.000 0.000 0.000 0.000\n",
            "  0.000 0.000 0.000 0.000]\n",
            " [0.000 0.000 0.000 0.000 0.000 0.000 0.000 0.000 0.000 0.333 0.298 0.780\n",
            "  0.882 0.973 1.000 0.933 0.886 0.616 0.267 0.314 0.000 0.000 0.000 0.000\n",
            "  0.000 0.000 0.000 0.000]\n",
            " [0.000 0.000 0.000 0.000 0.000 0.000 0.000 0.000 0.000 0.357 0.271 0.357\n",
            "  0.788 0.855 0.882 0.820 0.620 0.239 0.365 0.282 0.000 0.000 0.000 0.000\n",
            "  0.000 0.000 0.000 0.000]\n",
            " [0.000 0.000 0.000 0.000 0.000 0.000 0.000 0.000 0.000 0.310 0.349 0.239\n",
            "  0.231 0.341 0.424 0.294 0.220 0.298 0.380 0.286 0.000 0.000 0.000 0.000\n",
            "  0.000 0.000 0.000 0.000]\n",
            " [0.000 0.000 0.000 0.000 0.000 0.000 0.000 0.000 0.000 0.294 0.349 0.314\n",
            "  0.314 0.263 0.247 0.286 0.325 0.314 0.376 0.282 0.000 0.000 0.000 0.000\n",
            "  0.000 0.000 0.000 0.000]\n",
            " [0.000 0.000 0.000 0.000 0.000 0.000 0.000 0.000 0.000 0.302 0.345 0.302\n",
            "  0.314 0.325 0.325 0.325 0.325 0.318 0.373 0.298 0.000 0.000 0.000 0.000\n",
            "  0.000 0.000 0.000 0.000]\n",
            " [0.000 0.000 0.000 0.000 0.000 0.000 0.000 0.000 0.000 0.349 0.376 0.314\n",
            "  0.325 0.318 0.329 0.333 0.333 0.333 0.380 0.329 0.000 0.000 0.000 0.000\n",
            "  0.000 0.000 0.000 0.000]\n",
            " [0.000 0.000 0.000 0.000 0.000 0.000 0.000 0.000 0.000 0.365 0.380 0.318\n",
            "  0.333 0.329 0.333 0.341 0.345 0.329 0.388 0.341 0.000 0.000 0.000 0.000\n",
            "  0.000 0.000 0.000 0.000]\n",
            " [0.000 0.000 0.000 0.000 0.000 0.000 0.000 0.000 0.000 0.373 0.341 0.329\n",
            "  0.341 0.345 0.333 0.341 0.341 0.329 0.361 0.341 0.000 0.000 0.000 0.000\n",
            "  0.000 0.000 0.000 0.000]\n",
            " [0.000 0.000 0.000 0.000 0.000 0.000 0.000 0.000 0.000 0.380 0.341 0.341\n",
            "  0.333 0.345 0.341 0.341 0.341 0.345 0.333 0.420 0.000 0.000 0.000 0.000\n",
            "  0.000 0.000 0.000 0.000]\n",
            " [0.000 0.000 0.000 0.000 0.000 0.000 0.000 0.000 0.067 0.392 0.345 0.341\n",
            "  0.341 0.345 0.341 0.341 0.333 0.349 0.302 0.463 0.031 0.000 0.000 0.000\n",
            "  0.000 0.000 0.000 0.000]\n",
            " [0.000 0.000 0.000 0.000 0.000 0.000 0.000 0.000 0.039 0.365 0.341 0.341\n",
            "  0.341 0.341 0.341 0.345 0.341 0.349 0.314 0.404 0.000 0.000 0.000 0.000\n",
            "  0.000 0.000 0.000 0.000]\n",
            " [0.000 0.000 0.000 0.000 0.000 0.000 0.000 0.000 0.035 0.376 0.341 0.341\n",
            "  0.341 0.341 0.341 0.345 0.341 0.345 0.341 0.404 0.000 0.000 0.000 0.000\n",
            "  0.000 0.000 0.000 0.000]\n",
            " [0.000 0.000 0.000 0.000 0.000 0.000 0.000 0.000 0.047 0.376 0.333 0.341\n",
            "  0.341 0.341 0.333 0.341 0.341 0.345 0.349 0.392 0.008 0.000 0.000 0.000\n",
            "  0.000 0.000 0.000 0.000]\n",
            " [0.000 0.000 0.000 0.000 0.000 0.000 0.000 0.000 0.078 0.373 0.329 0.345\n",
            "  0.333 0.341 0.345 0.345 0.345 0.349 0.345 0.388 0.031 0.000 0.000 0.000\n",
            "  0.000 0.000 0.000 0.000]\n",
            " [0.000 0.000 0.000 0.000 0.000 0.000 0.000 0.000 0.082 0.376 0.333 0.341\n",
            "  0.333 0.345 0.345 0.345 0.345 0.349 0.349 0.388 0.039 0.000 0.000 0.000\n",
            "  0.000 0.000 0.000 0.000]\n",
            " [0.000 0.000 0.000 0.000 0.000 0.000 0.000 0.000 0.094 0.376 0.333 0.341\n",
            "  0.333 0.341 0.345 0.345 0.349 0.345 0.357 0.400 0.055 0.000 0.000 0.000\n",
            "  0.000 0.000 0.000 0.000]\n",
            " [0.000 0.000 0.000 0.000 0.000 0.000 0.000 0.000 0.098 0.365 0.329 0.345\n",
            "  0.341 0.341 0.341 0.341 0.341 0.349 0.357 0.404 0.114 0.000 0.000 0.000\n",
            "  0.000 0.000 0.000 0.000]\n",
            " [0.000 0.000 0.000 0.000 0.000 0.000 0.000 0.000 0.118 0.373 0.333 0.345\n",
            "  0.345 0.341 0.341 0.341 0.341 0.349 0.345 0.400 0.145 0.000 0.000 0.000\n",
            "  0.000 0.000 0.000 0.000]\n",
            " [0.000 0.000 0.000 0.000 0.000 0.000 0.000 0.000 0.133 0.376 0.345 0.341\n",
            "  0.341 0.341 0.341 0.341 0.341 0.333 0.333 0.380 0.149 0.000 0.000 0.000\n",
            "  0.000 0.000 0.000 0.000]\n",
            " [0.000 0.000 0.000 0.000 0.000 0.000 0.000 0.000 0.157 0.376 0.341 0.333\n",
            "  0.341 0.341 0.341 0.341 0.341 0.333 0.329 0.361 0.192 0.000 0.000 0.000\n",
            "  0.000 0.000 0.000 0.000]\n",
            " [0.000 0.000 0.000 0.000 0.000 0.000 0.000 0.000 0.180 0.373 0.325 0.329\n",
            "  0.341 0.341 0.341 0.341 0.341 0.341 0.329 0.341 0.329 0.000 0.000 0.000\n",
            "  0.000 0.000 0.000 0.000]\n",
            " [0.000 0.000 0.000 0.000 0.000 0.000 0.000 0.000 0.282 0.373 0.333 0.329\n",
            "  0.333 0.345 0.341 0.341 0.349 0.341 0.333 0.325 0.247 0.000 0.000 0.000\n",
            "  0.000 0.000 0.000 0.000]\n",
            " [0.000 0.000 0.000 0.000 0.000 0.000 0.000 0.000 0.251 0.392 0.329 0.341\n",
            "  0.345 0.333 0.345 0.345 0.329 0.341 0.325 0.373 0.208 0.000 0.000 0.000\n",
            "  0.000 0.000 0.000 0.000]\n",
            " [0.000 0.000 0.000 0.000 0.000 0.000 0.000 0.000 0.039 0.400 0.392 0.357\n",
            "  0.357 0.349 0.333 0.329 0.329 0.341 0.424 0.416 0.055 0.000 0.000 0.000\n",
            "  0.000 0.000 0.000 0.000]\n",
            " [0.000 0.000 0.000 0.000 0.000 0.000 0.000 0.000 0.000 0.031 0.286 0.365\n",
            "  0.408 0.420 0.404 0.404 0.416 0.400 0.294 0.039 0.000 0.000 0.000 0.000\n",
            "  0.000 0.000 0.000 0.000]\n",
            " [0.000 0.000 0.000 0.000 0.000 0.000 0.000 0.000 0.004 0.000 0.000 0.000\n",
            "  0.071 0.165 0.224 0.220 0.125 0.031 0.000 0.000 0.004 0.000 0.000 0.000\n",
            "  0.000 0.000 0.000 0.000]]\n"
          ]
        }
      ]
    },
    {
      "cell_type": "code",
      "source": [
        "## Design a model\n",
        "## Using Dropout\n",
        "## Using adam for multiclassification\n",
        "# 28*28 = 784\n",
        "model = Sequential ([Flatten(),\n",
        "                     Dense(32, activation = 'relu'),\n",
        "                     Dropout(0.5),\n",
        "                     Dense(10, activation = 'softmax')])\n",
        "model.compile(optimizer = 'adam',\n",
        "              loss = 'sparse_categorical_crossentropy',\n",
        "              metrics=['accuracy'])"
      ],
      "metadata": {
        "id": "sCn0_P0LcHBg"
      },
      "execution_count": null,
      "outputs": []
    },
    {
      "cell_type": "code",
      "source": [
        "## Model fitting\n",
        "\n",
        "model.fit(x_train, y_train, epochs = 5, validation_data=(x_test, y_test), verbose=1)\n"
      ],
      "metadata": {
        "colab": {
          "base_uri": "https://localhost:8080/"
        },
        "id": "v6zL1tvUeX24",
        "outputId": "3ede2080-5da6-4804-8d69-e61091be3a45"
      },
      "execution_count": null,
      "outputs": [
        {
          "output_type": "stream",
          "name": "stdout",
          "text": [
            "Epoch 1/5\n",
            "1875/1875 [==============================] - 5s 2ms/step - loss: 0.8943 - accuracy: 0.6755 - val_loss: 0.5384 - val_accuracy: 0.8142\n",
            "Epoch 2/5\n",
            "1875/1875 [==============================] - 6s 3ms/step - loss: 0.6999 - accuracy: 0.7432 - val_loss: 0.4996 - val_accuracy: 0.8233\n",
            "Epoch 3/5\n",
            "1875/1875 [==============================] - 5s 3ms/step - loss: 0.6487 - accuracy: 0.7597 - val_loss: 0.4664 - val_accuracy: 0.8270\n",
            "Epoch 4/5\n",
            "1875/1875 [==============================] - 4s 2ms/step - loss: 0.6145 - accuracy: 0.7736 - val_loss: 0.4611 - val_accuracy: 0.8353\n",
            "Epoch 5/5\n",
            "1875/1875 [==============================] - 5s 2ms/step - loss: 0.5981 - accuracy: 0.7792 - val_loss: 0.4537 - val_accuracy: 0.8361\n"
          ]
        },
        {
          "output_type": "execute_result",
          "data": {
            "text/plain": [
              "<keras.callbacks.History at 0x7f821cd01e50>"
            ]
          },
          "metadata": {},
          "execution_count": 17
        }
      ]
    },
    {
      "cell_type": "code",
      "source": [
        "## Modal Validation\n",
        "model.summary()\n",
        "model.evaluate(x_test,y_test)\n"
      ],
      "metadata": {
        "colab": {
          "base_uri": "https://localhost:8080/"
        },
        "id": "olzCgV5fe76L",
        "outputId": "815e4632-364a-44e2-a351-5b63fcc71e9b"
      },
      "execution_count": null,
      "outputs": [
        {
          "output_type": "stream",
          "name": "stdout",
          "text": [
            "Model: \"sequential_4\"\n",
            "_________________________________________________________________\n",
            " Layer (type)                Output Shape              Param #   \n",
            "=================================================================\n",
            " flatten_4 (Flatten)         (None, 784)               0         \n",
            "                                                                 \n",
            " dense_8 (Dense)             (None, 32)                25120     \n",
            "                                                                 \n",
            " dropout_4 (Dropout)         (None, 32)                0         \n",
            "                                                                 \n",
            " dense_9 (Dense)             (None, 10)                330       \n",
            "                                                                 \n",
            "=================================================================\n",
            "Total params: 25,450\n",
            "Trainable params: 25,450\n",
            "Non-trainable params: 0\n",
            "_________________________________________________________________\n",
            "313/313 [==============================] - 0s 1ms/step - loss: 0.4537 - accuracy: 0.8361\n"
          ]
        },
        {
          "output_type": "execute_result",
          "data": {
            "text/plain": [
              "[0.45366230607032776, 0.8360999822616577]"
            ]
          },
          "metadata": {},
          "execution_count": 20
        }
      ]
    },
    {
      "cell_type": "code",
      "source": [
        "# Use the model\n",
        "print(y_train[2999])\n",
        "pred_test= model.predict(x_test)\n",
        "print(pred_test[2])\n",
        "plt.imshow(x_test[2])"
      ],
      "metadata": {
        "colab": {
          "base_uri": "https://localhost:8080/",
          "height": 503
        },
        "id": "w-1YeVVYgehM",
        "outputId": "7e4e7ccc-24bb-49aa-943e-db398ab8d159"
      },
      "execution_count": null,
      "outputs": [
        {
          "output_type": "stream",
          "name": "stdout",
          "text": [
            "0\n",
            "313/313 [==============================] - 0s 1ms/step\n",
            "[0.000 1.000 0.000 0.000 0.000 0.000 0.000 0.000 0.000 0.000]\n"
          ]
        },
        {
          "output_type": "execute_result",
          "data": {
            "text/plain": [
              "<matplotlib.image.AxesImage at 0x7f82197673a0>"
            ]
          },
          "metadata": {},
          "execution_count": 25
        },
        {
          "output_type": "display_data",
          "data": {
            "text/plain": [
              "<Figure size 640x480 with 1 Axes>"
            ],
            "image/png": "[encoded data removed]"
          },
          "metadata": {}
        }
      ]
    },
    {
      "cell_type": "code",
      "source": [
        "print(y_test[2])"
      ],
      "metadata": {
        "colab": {
          "base_uri": "https://localhost:8080/"
        },
        "id": "4Jamwwxng81c",
        "outputId": "b99ecd5f-c8a2-413f-8f4f-c68d35979ccf"
      },
      "execution_count": null,
      "outputs": [
        {
          "output_type": "stream",
          "name": "stdout",
          "text": [
            "1\n"
          ]
        }
      ]
    },
    {
      "cell_type": "markdown",
      "source": [
        "# 모델 모니터링하기\n",
        "Callback Function\n",
        "- EarlyStopping\n",
        "- Modelcheckpoint\n",
        "* 학습 중 특정한 조건이 생기면 callback function이 실행됨\n",
        "* callback function은 여러개가 될 수 있음\n",
        "* 중간에 더 좋은 성능이 발견되지 않으면 종료\n",
        "ex1.callbacks\n",
        "  class myCallback(tf.keras.callbacks. Callback):\n",
        "    def on_epoch_end(self, epoch, los={}):\n",
        "      if(logs.get('accuracy') > 0.95):\n",
        "        print(\"\\nReached 95% accuracy so cancelling training!\")\n",
        "        self.model.stop_trainig = True\n",
        "\n",
        "  callbacks = myCallback()\n",
        "\n",
        "model.fit(x_train, y_train, validation_data = (x_test, y_test), epochs = 5, callbacks = [callbacks])\n",
        "\n",
        "ex2 earlystopping\n",
        "from tensorflow.keras.callbacks import EarlyStopping\n",
        "...\n",
        "early_stopping = EarlyStopping(monitor = 'val_loss',  patience = 10\n",
        "\n",
        "model.fit(X, Y, validation_split = 0.2, epochs = 50, callbacks = [early_stopping])\n",
        "\n",
        "\n",
        "* patience: 개선이 안된다고 바로 종료시키지 않고 몇번의 epoch을 기다릴지 설정, 위 예시에서는 10번의 epoch을 기다림\n",
        "\n",
        "ex3 modelcheckpoint\n",
        "- model의 정확도가 최고값을 갱신했을 때만 저장. h5파일\n",
        "\n",
        "checkpoint_path = \"my_chechpoint.ckpt\"\n",
        "checkpoint = ModelCheckpoint(filepath=checkpoint_path, save_weights_only=True,save_best_only = True, monitor = 'val_loss', verbose = 1)\n",
        "\n",
        "history = model.fit(x_trin, y_train, validation_data(x_test, y_test), epochs = 20, callbacks=[checkpoint])\n",
        "\n",
        "ex4 reducelr on plateau\n",
        "from tensorflow.keras.callbacks import ReduceLROnPlateau\n",
        "\n",
        "6reduce_lr = ReduceLROnPlateau(monitor='val_loss', factor=0.2, patience=5, min_lr=0.0001)"
      ],
      "metadata": {
        "id": "TZFB4RtHhKVZ"
      }
    },
    {
      "cell_type": "markdown",
      "source": [
        "\n",
        "## Hyperparameter tunning\n",
        "정의 : 모델 외부에 있으며 데이터부터 값이 추정될수 없는 설정변수\n",
        "종류\n",
        "* Activation function\n",
        "* Learning rate\n",
        "* Problem type\n",
        "* '# of layers, nodes\n",
        "* Training data ratio\n",
        "* Regularization"
      ],
      "metadata": {
        "id": "0GK1ubeOjtWw"
      }
    },
    {
      "cell_type": "code",
      "source": [],
      "metadata": {
        "id": "YOyJT9Jczkxe"
      },
      "execution_count": null,
      "outputs": []
    },
    {
      "cell_type": "markdown",
      "source": [
        "# ChatGPT\n",
        "# Fashion MNIST\n",
        "# Without CNN\n",
        "* Goal : val_loss <= 0.3\n",
        "* prompt: please, code efficient, fast and best performing program with minimum val loss value using python tensorflow\n",
        "from fashion mnist dataset\n",
        "to perform classification\n",
        "use only dense layers \n",
        "use dropout\n",
        "use batch normalization\n",
        "use checkpoint with save best only, and save weight only \n",
        "use early stopping with patient 10\n",
        "Use reduce lr on plateau\n",
        "set verbose = 1\n",
        "do not use data augmentation\n",
        "and other method to make val loss under 0.32\n",
        "\n",
        "*  x.reshape(-1, 정수) 를 해주면 '열(column)' 차원의 '정수'에 따라서 12개의 원소가 빠짐없이 배치될 수 있도록 '-1'이 들어가 있는 '행(row)' 의 개수가 가변적으로 정해짐\n",
        "\n",
        "*In this implementation, we're using a sequential model with four dense layers, each followed by batch normalization and dropout. We're also using the ModelCheckpoint callback to save the best weights based on validation loss, EarlyStopping to stop training if the validation loss stops improving, and ReduceLROnPlateau to reduce the learning rate if the validation loss plateaus.\n",
        "\n",
        "After training the model for 50 epochs, the final test accuracy is printed to the console. With these settings, we can achieve a validation loss under 0.32 and a test accuracy of around 0.91. However, keep in mind that the performance of the model may vary depending on the specific hardware and software setup you're using."
      ],
      "metadata": {
        "id": "uiNSbCJrnaaL"
      }
    },
    {
      "cell_type": "code",
      "source": [
        "import tensorflow as tf\n",
        "from tensorflow.keras.layers import Dense, Dropout, BatchNormalization\n",
        "from tensorflow.keras.callbacks import ModelCheckpoint, EarlyStopping, ReduceLROnPlateau\n",
        "from tensorflow.keras.datasets import fashion_mnist\n",
        "\n",
        "# Load the data\n",
        "(x_train, y_train), (x_test, y_test) = fashion_mnist.load_data()\n",
        "\n",
        "# Normalize the pixel values\n",
        "x_train = x_train / 255.0\n",
        "x_test = x_test / 255.0\n",
        "\n",
        "# Define the model architecture\n",
        "model = tf.keras.Sequential([\n",
        "    Dense(256, activation='relu', input_shape=(784,)),\n",
        "    BatchNormalization(),\n",
        "    Dropout(0.3),\n",
        "    Dense(128, activation='relu'),\n",
        "    BatchNormalization(),\n",
        "    Dropout(0.3),\n",
        "    Dense(64, activation='relu'),\n",
        "    BatchNormalization(),\n",
        "    Dropout(0.3),\n",
        "    Dense(10, activation='softmax')\n",
        "])\n",
        "\n",
        "# Compile the model\n",
        "model.compile(optimizer='adam', loss='sparse_categorical_crossentropy', metrics=['accuracy'])\n",
        "\n",
        "# Define the callbacks\n",
        "checkpoint = ModelCheckpoint('best_weights.h5', save_best_only=True, save_weights_only=True, monitor='val_loss', mode='min')\n",
        "early_stop = EarlyStopping(monitor='val_loss', patience=10)\n",
        "reduce_lr = ReduceLROnPlateau(monitor='val_loss', factor=0.2, patience=5, min_lr=0.0001)\n",
        "\n",
        "# Train the model\n",
        "history = model.fit(x_train.reshape((-1, 784)), y_train, \n",
        "                    validation_data=(x_test.reshape((-1, 784)), y_test),\n",
        "                    epochs=50, batch_size=128, verbose=1,\n",
        "                    callbacks=[checkpoint, early_stop, reduce_lr])\n",
        "\n",
        "# Evaluate the model\n",
        "_, test_acc = model.evaluate(x_test.reshape((-1, 784)), y_test, verbose=0)\n",
        "\n",
        "print('Test accuracy:', test_acc)"
      ],
      "metadata": {
        "colab": {
          "base_uri": "https://localhost:8080/"
        },
        "id": "p8tPo6ydiriC",
        "outputId": "366fab3f-5e3f-4cdc-ebbc-2f7352469ba8"
      },
      "execution_count": null,
      "outputs": [
        {
          "output_type": "stream",
          "name": "stdout",
          "text": [
            "Epoch 1/50\n",
            "469/469 [==============================] - 10s 13ms/step - loss: 0.6566 - accuracy: 0.7711 - val_loss: 0.4992 - val_accuracy: 0.8212 - lr: 0.0010\n",
            "Epoch 2/50\n",
            "469/469 [==============================] - 5s 11ms/step - loss: 0.4746 - accuracy: 0.8313 - val_loss: 0.4252 - val_accuracy: 0.8484 - lr: 0.0010\n",
            "Epoch 3/50\n",
            "469/469 [==============================] - 4s 9ms/step - loss: 0.4330 - accuracy: 0.8453 - val_loss: 0.3918 - val_accuracy: 0.8556 - lr: 0.0010\n",
            "Epoch 4/50\n",
            "469/469 [==============================] - 5s 12ms/step - loss: 0.4141 - accuracy: 0.8526 - val_loss: 0.3841 - val_accuracy: 0.8633 - lr: 0.0010\n",
            "Epoch 5/50\n",
            "469/469 [==============================] - 4s 9ms/step - loss: 0.3944 - accuracy: 0.8592 - val_loss: 0.4083 - val_accuracy: 0.8555 - lr: 0.0010\n",
            "Epoch 6/50\n",
            "469/469 [==============================] - 4s 9ms/step - loss: 0.3871 - accuracy: 0.8613 - val_loss: 0.3860 - val_accuracy: 0.8623 - lr: 0.0010\n",
            "Epoch 7/50\n",
            "469/469 [==============================] - 5s 12ms/step - loss: 0.3719 - accuracy: 0.8657 - val_loss: 0.4206 - val_accuracy: 0.8448 - lr: 0.0010\n",
            "Epoch 8/50\n",
            "469/469 [==============================] - 4s 9ms/step - loss: 0.3679 - accuracy: 0.8673 - val_loss: 0.4252 - val_accuracy: 0.8525 - lr: 0.0010\n",
            "Epoch 9/50\n",
            "469/469 [==============================] - 5s 10ms/step - loss: 0.3587 - accuracy: 0.8705 - val_loss: 0.3548 - val_accuracy: 0.8694 - lr: 0.0010\n",
            "Epoch 10/50\n",
            "469/469 [==============================] - 5s 10ms/step - loss: 0.3495 - accuracy: 0.8737 - val_loss: 0.3689 - val_accuracy: 0.8682 - lr: 0.0010\n",
            "Epoch 11/50\n",
            "469/469 [==============================] - 4s 9ms/step - loss: 0.3486 - accuracy: 0.8741 - val_loss: 0.3550 - val_accuracy: 0.8731 - lr: 0.0010\n",
            "Epoch 12/50\n",
            "469/469 [==============================] - 5s 11ms/step - loss: 0.3380 - accuracy: 0.8782 - val_loss: 0.3536 - val_accuracy: 0.8728 - lr: 0.0010\n",
            "Epoch 13/50\n",
            "469/469 [==============================] - 4s 9ms/step - loss: 0.3325 - accuracy: 0.8800 - val_loss: 0.3470 - val_accuracy: 0.8775 - lr: 0.0010\n",
            "Epoch 14/50\n",
            "469/469 [==============================] - 4s 9ms/step - loss: 0.3318 - accuracy: 0.8796 - val_loss: 0.3585 - val_accuracy: 0.8711 - lr: 0.0010\n",
            "Epoch 15/50\n",
            "469/469 [==============================] - 5s 12ms/step - loss: 0.3204 - accuracy: 0.8842 - val_loss: 0.3533 - val_accuracy: 0.8738 - lr: 0.0010\n",
            "Epoch 16/50\n",
            "469/469 [==============================] - 4s 9ms/step - loss: 0.3222 - accuracy: 0.8824 - val_loss: 0.3551 - val_accuracy: 0.8692 - lr: 0.0010\n",
            "Epoch 17/50\n",
            "469/469 [==============================] - 5s 10ms/step - loss: 0.3153 - accuracy: 0.8865 - val_loss: 0.3358 - val_accuracy: 0.8783 - lr: 0.0010\n",
            "Epoch 18/50\n",
            "469/469 [==============================] - 5s 11ms/step - loss: 0.3132 - accuracy: 0.8866 - val_loss: 0.3604 - val_accuracy: 0.8757 - lr: 0.0010\n",
            "Epoch 19/50\n",
            "469/469 [==============================] - 4s 9ms/step - loss: 0.3097 - accuracy: 0.8868 - val_loss: 0.3469 - val_accuracy: 0.8748 - lr: 0.0010\n",
            "Epoch 20/50\n",
            "469/469 [==============================] - 5s 12ms/step - loss: 0.3146 - accuracy: 0.8850 - val_loss: 0.3320 - val_accuracy: 0.8824 - lr: 0.0010\n",
            "Epoch 21/50\n",
            "469/469 [==============================] - 4s 9ms/step - loss: 0.3088 - accuracy: 0.8879 - val_loss: 0.3402 - val_accuracy: 0.8786 - lr: 0.0010\n",
            "Epoch 22/50\n",
            "469/469 [==============================] - 4s 9ms/step - loss: 0.3054 - accuracy: 0.8889 - val_loss: 0.3884 - val_accuracy: 0.8652 - lr: 0.0010\n",
            "Epoch 23/50\n",
            "469/469 [==============================] - 6s 12ms/step - loss: 0.3004 - accuracy: 0.8904 - val_loss: 0.3324 - val_accuracy: 0.8816 - lr: 0.0010\n",
            "Epoch 24/50\n",
            "469/469 [==============================] - 4s 10ms/step - loss: 0.2952 - accuracy: 0.8914 - val_loss: 0.3389 - val_accuracy: 0.8788 - lr: 0.0010\n",
            "Epoch 25/50\n",
            "469/469 [==============================] - 5s 11ms/step - loss: 0.2963 - accuracy: 0.8928 - val_loss: 0.3504 - val_accuracy: 0.8783 - lr: 0.0010\n",
            "Epoch 26/50\n",
            "469/469 [==============================] - 5s 10ms/step - loss: 0.2691 - accuracy: 0.9021 - val_loss: 0.3118 - val_accuracy: 0.8881 - lr: 2.0000e-04\n",
            "Epoch 27/50\n",
            "469/469 [==============================] - 4s 10ms/step - loss: 0.2622 - accuracy: 0.9048 - val_loss: 0.3118 - val_accuracy: 0.8889 - lr: 2.0000e-04\n",
            "Epoch 28/50\n",
            "469/469 [==============================] - 5s 12ms/step - loss: 0.2574 - accuracy: 0.9072 - val_loss: 0.3089 - val_accuracy: 0.8924 - lr: 2.0000e-04\n",
            "Epoch 29/50\n",
            "469/469 [==============================] - 4s 9ms/step - loss: 0.2575 - accuracy: 0.9047 - val_loss: 0.3096 - val_accuracy: 0.8896 - lr: 2.0000e-04\n",
            "Epoch 30/50\n",
            "469/469 [==============================] - 4s 10ms/step - loss: 0.2550 - accuracy: 0.9063 - val_loss: 0.3074 - val_accuracy: 0.8922 - lr: 2.0000e-04\n",
            "Epoch 31/50\n",
            "469/469 [==============================] - 5s 12ms/step - loss: 0.2500 - accuracy: 0.9078 - val_loss: 0.3110 - val_accuracy: 0.8928 - lr: 2.0000e-04\n",
            "Epoch 32/50\n",
            "469/469 [==============================] - 4s 9ms/step - loss: 0.2508 - accuracy: 0.9079 - val_loss: 0.3115 - val_accuracy: 0.8920 - lr: 2.0000e-04\n",
            "Epoch 33/50\n",
            "469/469 [==============================] - 6s 12ms/step - loss: 0.2500 - accuracy: 0.9085 - val_loss: 0.3075 - val_accuracy: 0.8910 - lr: 2.0000e-04\n",
            "Epoch 34/50\n",
            "469/469 [==============================] - 4s 10ms/step - loss: 0.2485 - accuracy: 0.9091 - val_loss: 0.3083 - val_accuracy: 0.8936 - lr: 2.0000e-04\n",
            "Epoch 35/50\n",
            "469/469 [==============================] - 5s 10ms/step - loss: 0.2465 - accuracy: 0.9106 - val_loss: 0.3091 - val_accuracy: 0.8891 - lr: 2.0000e-04\n",
            "Epoch 36/50\n",
            "469/469 [==============================] - 6s 12ms/step - loss: 0.2400 - accuracy: 0.9115 - val_loss: 0.3038 - val_accuracy: 0.8925 - lr: 1.0000e-04\n",
            "Epoch 37/50\n",
            "469/469 [==============================] - 5s 10ms/step - loss: 0.2399 - accuracy: 0.9126 - val_loss: 0.3056 - val_accuracy: 0.8946 - lr: 1.0000e-04\n",
            "Epoch 38/50\n",
            "469/469 [==============================] - 5s 12ms/step - loss: 0.2404 - accuracy: 0.9123 - val_loss: 0.3051 - val_accuracy: 0.8935 - lr: 1.0000e-04\n",
            "Epoch 39/50\n",
            "469/469 [==============================] - 5s 10ms/step - loss: 0.2379 - accuracy: 0.9129 - val_loss: 0.3048 - val_accuracy: 0.8939 - lr: 1.0000e-04\n",
            "Epoch 40/50\n",
            "469/469 [==============================] - 5s 10ms/step - loss: 0.2364 - accuracy: 0.9144 - val_loss: 0.3068 - val_accuracy: 0.8943 - lr: 1.0000e-04\n",
            "Epoch 41/50\n",
            "469/469 [==============================] - 6s 12ms/step - loss: 0.2385 - accuracy: 0.9136 - val_loss: 0.3069 - val_accuracy: 0.8938 - lr: 1.0000e-04\n",
            "Epoch 42/50\n",
            "469/469 [==============================] - 5s 10ms/step - loss: 0.2356 - accuracy: 0.9140 - val_loss: 0.3058 - val_accuracy: 0.8937 - lr: 1.0000e-04\n",
            "Epoch 43/50\n",
            "469/469 [==============================] - 5s 11ms/step - loss: 0.2336 - accuracy: 0.9139 - val_loss: 0.3064 - val_accuracy: 0.8955 - lr: 1.0000e-04\n",
            "Epoch 44/50\n",
            "469/469 [==============================] - 5s 10ms/step - loss: 0.2356 - accuracy: 0.9136 - val_loss: 0.3044 - val_accuracy: 0.8946 - lr: 1.0000e-04\n",
            "Epoch 45/50\n",
            "469/469 [==============================] - 4s 9ms/step - loss: 0.2336 - accuracy: 0.9147 - val_loss: 0.3040 - val_accuracy: 0.8957 - lr: 1.0000e-04\n",
            "Epoch 46/50\n",
            "469/469 [==============================] - 5s 11ms/step - loss: 0.2317 - accuracy: 0.9162 - val_loss: 0.3044 - val_accuracy: 0.8944 - lr: 1.0000e-04\n",
            "Test accuracy: 0.8944000005722046\n"
          ]
        }
      ]
    },
    {
      "cell_type": "markdown",
      "source": [
        "# CNN(Convolution Neural Network)\n",
        "\n",
        "* 대표적인 이미지 분류 모델\n",
        "  * 하나의 필터를 전체 이미지 입력값에 합성곱을 적용해준다!\n",
        "  * 합성곱을 거치면 특징(feature)이 필터 방향으로 추출됨\n",
        "\n",
        "* Zero padding: 입력값의 크기보다 결과값의 크기가 줄어들어 손실이되는 부분이 발생 -> 해결방안 : 0으로 구성된 테두리를 이미지 값으로 채워준다.\n",
        "* Strid: 필터를 움직여주는 값 \n",
        "ex. strid = 1 필터 한칸 움직임\n",
        "strid값이 커질 경우 필터가 이미지를 건너뛰는 칸이 커짐을 의미하므로 결과값의 이미지 크기는 작아진다.\n",
        "* Maxpooling : 각 결과값의 차원을 축소해주는 것 이때, 가장 큰 값을 가져와 pool size에 맞춰 값을 채우면 max pooling, 평균값으로 pool값을 채우면 average pooling이다.\n",
        "correlation이 낮은 부분을 삭제하여 각 결과 값의 크기를 줄이는 과정\n",
        "* Upsampling : 데이터가 실제보다 더 자주 수집되는 것처럼 데이터를 표현하는 것\n",
        "* 업샘플링의 목적은 실제로 측정하는 것은 아니지만 드물게 측정된 데이터에서 더 조밀한 시간의 데이터를 얻기 위함\n",
        " * 필요한 경우: \n",
        "  1) 시계열이 불규칙적인 상황\n",
        "  2) 입력이 서로 다른 빈도로 샘플링된 상황\n",
        "   \n",
        "+ Flatten -> Dropout-> Dense -> Softmax -> 분류"
      ],
      "metadata": {
        "id": "dJlwyjvuuMP3"
      }
    },
    {
      "cell_type": "markdown",
      "source": [
        "# Using CNN for FMnist\n",
        "* Sure, here's an implementation of a convolutional neural network (CNN) that meets your requirements:\n",
        "\n",
        "In this implementation, we're using a CNN with two convolutional layers, each followed by max pooling, and a dense layer with dropout for classification. We're also using the ModelCheckpoint callback to save the best weights based on validation loss, EarlyStopping to stop training if the validation loss stops improving, and ReduceLROnPlateau to reduce the learning rate if the validation loss plateaus.\n",
        "\n",
        "After training the model for 50 epochs, the final test accuracy is printed to the console. With these settings, we can achieve a validation loss under 0.32 and a test accuracy of around 0.91. However, keep in mind that the performance of the model may vary depending on the specific hardware and software setup you're using."
      ],
      "metadata": {
        "id": "LQCSXq5zreqO"
      }
    },
    {
      "cell_type": "code",
      "source": [
        "import tensorflow as tf\n",
        "from tensorflow.keras.layers import Conv2D, MaxPooling2D, Flatten, Dense, Dropout\n",
        "from tensorflow.keras.callbacks import ModelCheckpoint, EarlyStopping, ReduceLROnPlateau\n",
        "from tensorflow.keras.datasets import fashion_mnist\n",
        "\n",
        "# Load the data\n",
        "(x_train, y_train), (x_test, y_test) = fashion_mnist.load_data()\n",
        "\n",
        "# Normalize the pixel values\n",
        "x_train = x_train / 255.0\n",
        "x_test = x_test / 255.0\n",
        "\n",
        "# Reshape the input data for CNN\n",
        "x_train = x_train.reshape(-1, 28, 28, 1)\n",
        "x_test = x_test.reshape(-1, 28, 28, 1)\n",
        "\n",
        "# Define the model architecture\n",
        "model = tf.keras.Sequential([\n",
        "    Conv2D(32, (3,3), activation='relu', padding='same', input_shape=(28,28,1)),\n",
        "    MaxPooling2D((2,2)),\n",
        "    Conv2D(64, (3,3), activation='relu', padding='same'),\n",
        "    MaxPooling2D((2,2)),\n",
        "    Flatten(),\n",
        "    Dense(128, activation='relu'),\n",
        "    Dropout(0.3),\n",
        "    Dense(10, activation='softmax')\n",
        "])\n",
        "\n",
        "# Compile the model\n",
        "model.compile(optimizer='adam', loss='sparse_categorical_crossentropy', metrics=['accuracy'])\n",
        "\n",
        "# Define the callbacks\n",
        "checkpoint = ModelCheckpoint('best_weights.h5', save_best_only=True, save_weights_only=True, monitor='val_loss', mode='min')\n",
        "early_stop = EarlyStopping(monitor='val_loss', patience=10)\n",
        "reduce_lr = ReduceLROnPlateau(monitor='val_loss', factor=0.2, patience=5, min_lr=0.0001)\n",
        "\n",
        "# Train the model\n",
        "history = model.fit(x_train, y_train, \n",
        "                    validation_data=(x_test, y_test),\n",
        "                    epochs=50, batch_size=128, verbose=1,\n",
        "                    callbacks=[checkpoint, early_stop, reduce_lr])\n",
        "\n",
        "# Evaluate the model\n",
        "_, test_acc = model.evaluate(x_test, y_test, verbose=0)\n",
        "\n",
        "print('Test accuracy:', test_acc)\n"
      ],
      "metadata": {
        "colab": {
          "base_uri": "https://localhost:8080/"
        },
        "id": "eqPln0gtrjjL",
        "outputId": "b870465b-cf5f-42d4-bc66-5a632ad1d1ac"
      },
      "execution_count": null,
      "outputs": [
        {
          "output_type": "stream",
          "name": "stdout",
          "text": [
            "Epoch 1/50\n",
            "469/469 [==============================] - 77s 161ms/step - loss: 0.5518 - accuracy: 0.8015 - val_loss: 0.3550 - val_accuracy: 0.8714 - lr: 0.0010\n",
            "Epoch 2/50\n",
            "469/469 [==============================] - 82s 175ms/step - loss: 0.3387 - accuracy: 0.8791 - val_loss: 0.3034 - val_accuracy: 0.8905 - lr: 0.0010\n",
            "Epoch 3/50\n",
            "469/469 [==============================] - 80s 170ms/step - loss: 0.2915 - accuracy: 0.8953 - val_loss: 0.2820 - val_accuracy: 0.8982 - lr: 0.0010\n",
            "Epoch 4/50\n",
            "469/469 [==============================] - 90s 191ms/step - loss: 0.2595 - accuracy: 0.9068 - val_loss: 0.2701 - val_accuracy: 0.9014 - lr: 0.0010\n",
            "Epoch 5/50\n",
            "469/469 [==============================] - 71s 151ms/step - loss: 0.2380 - accuracy: 0.9139 - val_loss: 0.2477 - val_accuracy: 0.9089 - lr: 0.0010\n",
            "Epoch 6/50\n",
            "469/469 [==============================] - 73s 156ms/step - loss: 0.2183 - accuracy: 0.9194 - val_loss: 0.2367 - val_accuracy: 0.9133 - lr: 0.0010\n",
            "Epoch 7/50\n",
            "469/469 [==============================] - 75s 159ms/step - loss: 0.2035 - accuracy: 0.9249 - val_loss: 0.2423 - val_accuracy: 0.9139 - lr: 0.0010\n",
            "Epoch 8/50\n",
            "469/469 [==============================] - 70s 150ms/step - loss: 0.1905 - accuracy: 0.9292 - val_loss: 0.2258 - val_accuracy: 0.9166 - lr: 0.0010\n",
            "Epoch 9/50\n",
            "469/469 [==============================] - 87s 184ms/step - loss: 0.1777 - accuracy: 0.9333 - val_loss: 0.2277 - val_accuracy: 0.9166 - lr: 0.0010\n",
            "Epoch 10/50\n",
            "469/469 [==============================] - 81s 173ms/step - loss: 0.1637 - accuracy: 0.9394 - val_loss: 0.2163 - val_accuracy: 0.9235 - lr: 0.0010\n",
            "Epoch 11/50\n",
            "469/469 [==============================] - 80s 171ms/step - loss: 0.1516 - accuracy: 0.9435 - val_loss: 0.2222 - val_accuracy: 0.9196 - lr: 0.0010\n",
            "Epoch 12/50\n",
            "469/469 [==============================] - 88s 189ms/step - loss: 0.1432 - accuracy: 0.9472 - val_loss: 0.2239 - val_accuracy: 0.9220 - lr: 0.0010\n",
            "Epoch 13/50\n",
            "469/469 [==============================] - 82s 175ms/step - loss: 0.1288 - accuracy: 0.9520 - val_loss: 0.2238 - val_accuracy: 0.9236 - lr: 0.0010\n",
            "Epoch 14/50\n",
            "469/469 [==============================] - 71s 151ms/step - loss: 0.1193 - accuracy: 0.9545 - val_loss: 0.2279 - val_accuracy: 0.9219 - lr: 0.0010\n",
            "Epoch 15/50\n",
            "469/469 [==============================] - 73s 156ms/step - loss: 0.1126 - accuracy: 0.9586 - val_loss: 0.2279 - val_accuracy: 0.9229 - lr: 0.0010\n",
            "Epoch 16/50\n",
            "469/469 [==============================] - 82s 176ms/step - loss: 0.0821 - accuracy: 0.9701 - val_loss: 0.2230 - val_accuracy: 0.9341 - lr: 2.0000e-04\n",
            "Epoch 17/50\n",
            "469/469 [==============================] - 85s 182ms/step - loss: 0.0740 - accuracy: 0.9735 - val_loss: 0.2313 - val_accuracy: 0.9310 - lr: 2.0000e-04\n",
            "Epoch 18/50\n",
            "469/469 [==============================] - 78s 166ms/step - loss: 0.0702 - accuracy: 0.9754 - val_loss: 0.2305 - val_accuracy: 0.9321 - lr: 2.0000e-04\n",
            "Epoch 19/50\n",
            "469/469 [==============================] - 81s 173ms/step - loss: 0.0679 - accuracy: 0.9754 - val_loss: 0.2367 - val_accuracy: 0.9310 - lr: 2.0000e-04\n",
            "Epoch 20/50\n",
            "469/469 [==============================] - 76s 162ms/step - loss: 0.0641 - accuracy: 0.9770 - val_loss: 0.2368 - val_accuracy: 0.9319 - lr: 2.0000e-04\n",
            "Test accuracy: 0.9319000244140625\n"
          ]
        }
      ]
    }
  ]
}